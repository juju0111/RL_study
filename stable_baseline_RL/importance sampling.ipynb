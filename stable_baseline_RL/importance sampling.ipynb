{
 "cells": [
  {
   "attachments": {
    "image.png": {
     "image/png": "[encoded data removed]"
    }
   },
   "cell_type": "markdown",
   "id": "f4412a86",
   "metadata": {},
   "source": [
    "## Monte Carlo Sample mean\n",
    "\n",
    "$N(0,1)$에서 $[2,3]$ 부분만 샘플해서 그 평균값을 return 하는 코드 \n",
    "\n",
    "![image.png](attachment:image.png)\n",
    "\n",
    "\n",
    "\n"
   ]
  },
  {
   "cell_type": "code",
   "execution_count": 49,
   "id": "d82ff59d",
   "metadata": {},
   "outputs": [
    {
     "name": "stdout",
     "output_type": "stream",
     "text": [
      "30000개 중 쓸 수 있는 sample 갯수: 673개\n",
      "결과 : 2.3137090272344354\n"
     ]
    }
   ],
   "source": [
    "import numpy as np\n",
    "\n",
    "num_samples = 30000\n",
    "range_ = (2, 3)\n",
    "\n",
    "samples = np.random.normal(0, 1, num_samples)\n",
    "\n",
    "# 쓸만한 sample index를 가져오자.\n",
    "idxl = samples >= range_[0]\n",
    "idxr = samples <= range_[1]\n",
    "idx = idxl & idxr\n",
    "\n",
    "samples_in_range = samples[idx]\n",
    "print(\"{}개 중 쓸 수 있는 sample 갯수: {}개\".format(num_samples, len(samples_in_range)))\n",
    "\n",
    "result = np.sum(samples_in_range)/len(samples_in_range)\n",
    "print(\"결과 : {}\".format(result))"
   ]
  },
  {
   "cell_type": "markdown",
   "id": "70f3820a",
   "metadata": {},
   "source": [
    "## 수식을 활용한 구현 \n",
    "\n",
    "$N(0,1)$에서 $[2,3]$ 부분만 추출해서 그 평균값을 return 하는 코드 \n",
    "\n",
    "샘플과 수식적 계산이 매우 유사함을 보여준다.\n",
    "\n",
    "$$ \\int^3_2 x{\\theta(x)  \\over \\int^3_2 \\theta(y)dy} dx $$"
   ]
  },
  {
   "cell_type": "code",
   "execution_count": 95,
   "id": "78fc3b8e",
   "metadata": {},
   "outputs": [
    {
     "name": "stdout",
     "output_type": "stream",
     "text": [
      " 확률 :   2.3158213265311987\n"
     ]
    }
   ],
   "source": [
    "from scipy.integrate import romberg\n",
    "\n",
    "\n",
    "def integrand_norm(x, s):\n",
    "    return np.exp(-0.5*(x/s)**2)/(np.sqrt(2*np.pi)*s)\n",
    "\n",
    "def integrand_normx(x, s):\n",
    "    return x*np.exp(-0.5*(x/s)**2)/(np.sqrt(2*np.pi)*s)\n",
    "\n",
    "den = romberg(integrand_norm, range_[0], range_[1], args=(1.0, ))\n",
    "num = romberg(integrand_normx, range_[0], range_[1], args=(1.0, ))\n",
    "print(\" 확률 :  \",num/den)"
   ]
  },
  {
   "cell_type": "markdown",
   "id": "ea792150",
   "metadata": {},
   "source": [
    "## Importance Sampling\n"
   ]
  },
  {
   "attachments": {
    "image.png": {
     "image/png": "[encoded data removed]"
    }
   },
   "cell_type": "markdown",
   "id": "6a8522d7",
   "metadata": {},
   "source": [
    "수식을 아래와 같이 변경해준다.\n",
    "\n",
    "$$\\int^3_2 x{\\theta(x) \\over \\int^3_2 \\theta(y)dy } dx  =  \\int^3_2 x{\\theta(x) \\over \\int^3_2 \\theta(y)dy h(x) }*h(x) dx $$\n",
    "\n",
    "\n",
    "![image.png](attachment:image.png)\n",
    "\n",
    "h(t)는 $U[2,3] $의 pdf이며,  $$importance~~ratio~~: ~ w = {\\theta(x) \\over \\int^3_2 \\theta(y)dy h(x)}  $$\n",
    "\n",
    "\n",
    "버리는 샘플이 하나도 없이 진행한다. \n",
    "\n",
    "\n",
    "2~3까지 샘플을 뽑고 그에 대해 importance ratio를 나누어 주어 결과 획득"
   ]
  },
  {
   "cell_type": "code",
   "execution_count": 86,
   "id": "4d17cf16",
   "metadata": {},
   "outputs": [
    {
     "name": "stdout",
     "output_type": "stream",
     "text": [
      "샘플링 :  [2.10659485 2.7282952  2.47742982 ... 2.03455121 2.53733418 2.13020385]\n",
      "정규분포 2~3 면적 :  0.021400233916529763\n",
      "결과 (샘플평균) : 2.320734243301575\n"
     ]
    }
   ],
   "source": [
    "samples = np.random.uniform(range_[0], range_[1], num_samples)\n",
    "\n",
    "print(\"샘플링 : \",samples)\n",
    "\n",
    "print(\"정규분포 2~3 면적 : \",den)\n",
    "\n",
    "importance_ratio = integrand_norm(samples, 1)/den\n",
    "\n",
    "print(\"결과 (샘플평균) : {}\".format(np.sum(samples*importance_ratio)/num_samples))\n",
    "\n"
   ]
  },
  {
   "cell_type": "markdown",
   "id": "d7cc99f0",
   "metadata": {},
   "source": [
    "Sample 평균은 참값과 거의 같다. \n",
    "\n",
    "하지만, $$ samples* \\omega $$의 분산은 크게 나온다"
   ]
  },
  {
   "cell_type": "code",
   "execution_count": 94,
   "id": "5202813c",
   "metadata": {},
   "outputs": [
    {
     "name": "stdout",
     "output_type": "stream",
     "text": [
      "Sample의 분산 : 1.6398818085280065\n"
     ]
    }
   ],
   "source": [
    "print(\"Sample의 분산 :\", np.var(samples*importance_ratio))"
   ]
  }
 ],
 "metadata": {
  "kernelspec": {
   "display_name": "[vision_project]",
   "language": "python",
   "name": "vision_project"
  },
  "language_info": {
   "codemirror_mode": {
    "name": "ipython",
    "version": 3
   },
   "file_extension": ".py",
   "mimetype": "text/x-python",
   "name": "python",
   "nbconvert_exporter": "python",
   "pygments_lexer": "ipython3",
   "version": "3.8.12"
  }
 },
 "nbformat": 4,
 "nbformat_minor": 5
}
